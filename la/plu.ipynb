{
 "cells": [
  {
   "cell_type": "markdown",
   "metadata": {},
   "source": [
    "# Gaussian Elimination with row pivoting"
   ]
  },
  {
   "cell_type": "code",
   "execution_count": 6,
   "metadata": {
    "collapsed": true
   },
   "outputs": [],
   "source": [
    "import numpy as np"
   ]
  },
  {
   "cell_type": "markdown",
   "metadata": {},
   "source": [
    "This function performs LU decomposition of given matrix A with pivoting to obtain\n",
    "$$\n",
    "PA = LU\n",
    "$$\n",
    "where $P$ is a permutation matrix. Here we dont store $P$ as a matrix, but only as a vector. We initialize\n",
    "$$\n",
    "P = [0,1,2,\\ldots,n-1]\n",
    "$$\n",
    "and then swap entries of $P$ whenever two rows are swapped during pivoting."
   ]
  },
  {
   "cell_type": "code",
   "execution_count": 7,
   "metadata": {
    "collapsed": true
   },
   "outputs": [],
   "source": [
    "def LU(A):\n",
    "    n = A.shape[0]\n",
    "    L = np.identity(n)\n",
    "    P = np.arange(n,dtype=int) # Permutation matrix\n",
    "    U = np.array(A)\n",
    "    for k in range(n-1):\n",
    "        i = np.argmax(np.abs(U[k:n,k])) + k\n",
    "        U[[k,i],k:n] = U[[i,k],k:n] # swap row i and k\n",
    "        L[[k,i],0:k] = L[[i,k],0:k] # swap row i and k\n",
    "        P[[k,i]] = P[[i,k]]         # swap row i and k\n",
    "        for j in range(k+1,n):\n",
    "            L[j,k] = U[j,k]/U[k,k]\n",
    "            U[j,k:n] = U[j,k:n] - L[j,k]*U[k,k:n]\n",
    "    return L,U,P"
   ]
  },
  {
   "cell_type": "markdown",
   "metadata": {},
   "source": [
    "This performs solution of\n",
    "$$\n",
    "LUx = Pb\n",
    "$$\n",
    "in two steps. In first step, solve\n",
    "$$\n",
    "Ly = Pb\n",
    "$$\n",
    "In second step, solve\n",
    "$$\n",
    "Ux = y\n",
    "$$"
   ]
  },
  {
   "cell_type": "code",
   "execution_count": 8,
   "metadata": {
    "collapsed": true
   },
   "outputs": [],
   "source": [
    "def LUSolve(L,U,P,b):\n",
    "    n = L.shape[0]\n",
    "    # solve Ly = Pb\n",
    "    pb = b[P]\n",
    "    y = np.empty_like(b)\n",
    "    for i in range(n):\n",
    "        y[i] = (pb[i] - L[i,0:i].dot(y[0:i]))/L[i,i]\n",
    "    #solve Ux = y\n",
    "    x = np.empty_like(b)\n",
    "    for i in range(n-1,-1,-1):\n",
    "        x[i] = (y[i] - U[i,i+1:n].dot(x[i+1:n]))/U[i,i]\n",
    "    return x"
   ]
  },
  {
   "cell_type": "markdown",
   "metadata": {},
   "source": [
    "Now we test the above function for LU decomposition."
   ]
  },
  {
   "cell_type": "code",
   "execution_count": 9,
   "metadata": {},
   "outputs": [
    {
     "name": "stdout",
     "output_type": "stream",
     "text": [
      "A = \n",
      "[[ 0.26612135  0.47627982  0.06012509]\n",
      " [ 0.16761116  0.28378119  0.59633324]\n",
      " [ 0.23820313  0.31142292  0.74419954]]\n",
      "L = \n",
      "[[ 1.          0.          0.        ]\n",
      " [ 0.89509216  1.          0.        ]\n",
      " [ 0.62982979  0.14095073  1.        ]]\n",
      "U = \n",
      "[[ 0.26612135  0.47627982  0.06012509]\n",
      " [ 0.         -0.11489141  0.69038203]\n",
      " [ 0.          0.          0.46115481]]\n",
      "P = \n",
      "[0 2 1]\n",
      "Pm= \n",
      "[[ 1.  0.  0.]\n",
      " [ 0.  0.  1.]\n",
      " [ 0.  1.  0.]]\n",
      "PA-LU = \n",
      "[[ 0.  0.  0.]\n",
      " [ 0.  0.  0.]\n",
      " [ 0.  0.  0.]]\n"
     ]
    }
   ],
   "source": [
    "n = 3\n",
    "A = np.random.rand(n,n)\n",
    "L,U,P = LU(A)\n",
    "print \"A = \"; print A\n",
    "print \"L = \"; print L\n",
    "print \"U = \"; print U\n",
    "print \"P = \"; print P\n",
    "\n",
    "# Create a permutation matrix from the P vector\n",
    "Pm = np.zeros((n,n))\n",
    "for i in range(n):\n",
    "    Pm[i,P[i]] = 1.0\n",
    "print \"Pm= \"; print Pm\n",
    "print \"PA-LU = \"; print Pm.dot(A) - L.dot(U)"
   ]
  },
  {
   "cell_type": "markdown",
   "metadata": {},
   "source": [
    "Solve the linear system."
   ]
  },
  {
   "cell_type": "code",
   "execution_count": 10,
   "metadata": {},
   "outputs": [
    {
     "name": "stdout",
     "output_type": "stream",
     "text": [
      "[  0.00000000e+00   0.00000000e+00  -2.77555756e-17]\n"
     ]
    }
   ],
   "source": [
    "b = np.random.rand(n)\n",
    "x = LUSolve(L,U,P,b)\n",
    "print A.dot(x) - b"
   ]
  }
 ],
 "metadata": {
  "kernelspec": {
   "display_name": "Python 2",
   "language": "python",
   "name": "python2"
  },
  "language_info": {
   "codemirror_mode": {
    "name": "ipython",
    "version": 2
   },
   "file_extension": ".py",
   "mimetype": "text/x-python",
   "name": "python",
   "nbconvert_exporter": "python",
   "pygments_lexer": "ipython2",
   "version": "2.7.14"
  }
 },
 "nbformat": 4,
 "nbformat_minor": 1
}
