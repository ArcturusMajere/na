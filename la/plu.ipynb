{
 "cells": [
  {
   "cell_type": "markdown",
   "metadata": {},
   "source": [
    "# Gaussian Elimination with row pivoting"
   ]
  },
  {
   "cell_type": "code",
   "execution_count": 1,
   "metadata": {},
   "outputs": [],
   "source": [
    "import numpy as np"
   ]
  },
  {
   "cell_type": "markdown",
   "metadata": {},
   "source": [
    "This function performs LU decomposition of given matrix A with pivoting to obtain\n",
    "$$\n",
    "PA = LU\n",
    "$$\n",
    "where $P$ is a permutation matrix. Here we dont store $P$ as a matrix, but only as a vector."
   ]
  },
  {
   "cell_type": "code",
   "execution_count": 2,
   "metadata": {},
   "outputs": [],
   "source": [
    "def LU(A):\n",
    "    n = A.shape[0]\n",
    "    L = np.identity(n)\n",
    "    P = np.arange(n,dtype=int) # Permutation matrix\n",
    "    U = np.array(A)\n",
    "    for k in range(n-1):\n",
    "        i = np.argmax(abs(U[k:n,k]))\n",
    "        i = i+k\n",
    "        U[[k,i],k:n] = U[[i,k],k:n] # swap row i and k\n",
    "        L[[k,i],0:k] = L[[i,k],0:k] # swap row i and k\n",
    "        P[[k,i]] = P[[i,k]]         # swap row i and k\n",
    "        for j in range(k+1,n):\n",
    "            L[j,k] = U[j,k]/U[k,k]\n",
    "            U[j,k:n] = U[j,k:n] - L[j,k]*U[k,k:n]\n",
    "    return L,U,P"
   ]
  },
  {
   "cell_type": "markdown",
   "metadata": {},
   "source": [
    "This performs solution of\n",
    "$$\n",
    "LUx = Pb\n",
    "$$\n",
    "in two steps. In first step, solve\n",
    "$$\n",
    "Ly = Pb\n",
    "$$\n",
    "In second step, solve\n",
    "$$\n",
    "Ux = y\n",
    "$$"
   ]
  },
  {
   "cell_type": "code",
   "execution_count": 3,
   "metadata": {},
   "outputs": [],
   "source": [
    "def LUSolve(L,U,P,b):\n",
    "    n = L.shape[0]\n",
    "    # solve Ly = Pb\n",
    "    pb = b[P]\n",
    "    y = 0.0*pb\n",
    "    for i in range(n):\n",
    "        y[i] = (pb[i] - L[i,0:i].dot(y[0:i]))/L[i,i]\n",
    "    #solve Ux = y\n",
    "    x = 0.0*pb\n",
    "    for i in range(n-1,-1,-1):\n",
    "        x[i] = (y[i] - U[i,i+1:n].dot(x[i+1:n]))/U[i,i]\n",
    "    return x"
   ]
  },
  {
   "cell_type": "markdown",
   "metadata": {},
   "source": [
    "Now we test the above function for LU decomposition."
   ]
  },
  {
   "cell_type": "code",
   "execution_count": 4,
   "metadata": {},
   "outputs": [
    {
     "name": "stdout",
     "output_type": "stream",
     "text": [
      "[[ 0.59128337  0.4157061   0.63402054]\n",
      " [ 0.5668906   0.47389968  0.89439016]\n",
      " [ 0.40401103  0.73216683  0.4282355 ]]\n",
      "[[ 1.          0.          0.        ]\n",
      " [ 0.68327819  1.          0.        ]\n",
      " [ 0.95874607  0.16813004  1.        ]]\n",
      "[[ 0.59128337  0.4157061   0.63402054]\n",
      " [ 0.          0.44812391 -0.0049769 ]\n",
      " [ 0.          0.          0.28736223]]\n",
      "[0 2 1]\n",
      "[[ 0.94650887  1.26426009  1.58299528]\n",
      " [ 1.1337812   0.94779936  1.78878032]\n",
      " [ 0.97090163  1.20606651  1.32262566]]\n"
     ]
    }
   ],
   "source": [
    "n = 3\n",
    "A = np.random.rand(n,n)\n",
    "L,U,P = LU(A)\n",
    "print A\n",
    "print L\n",
    "print U\n",
    "print P\n",
    "print P.dot(A) - L.dot(U)"
   ]
  },
  {
   "cell_type": "markdown",
   "metadata": {},
   "source": [
    "Solve the linear system."
   ]
  },
  {
   "cell_type": "code",
   "execution_count": 5,
   "metadata": {},
   "outputs": [
    {
     "name": "stdout",
     "output_type": "stream",
     "text": [
      "[  0.00000000e+00  -2.22044605e-16  -5.55111512e-17]\n"
     ]
    }
   ],
   "source": [
    "b = np.random.rand(n)\n",
    "x = LUSolve(L,U,P,b)\n",
    "print A.dot(x) - b"
   ]
  }
 ],
 "metadata": {
  "kernelspec": {
   "display_name": "Python [default]",
   "language": "python",
   "name": "python2"
  },
  "language_info": {
   "codemirror_mode": {
    "name": "ipython",
    "version": 2
   },
   "file_extension": ".py",
   "mimetype": "text/x-python",
   "name": "python",
   "nbconvert_exporter": "python",
   "pygments_lexer": "ipython2",
   "version": "2.7.14"
  }
 },
 "nbformat": 4,
 "nbformat_minor": 1
}
