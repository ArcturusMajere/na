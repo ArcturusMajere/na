{
 "cells": [
  {
   "cell_type": "markdown",
   "metadata": {},
   "source": [
    "# Gaussian Elimination"
   ]
  },
  {
   "cell_type": "code",
   "execution_count": 10,
   "metadata": {
    "collapsed": true
   },
   "outputs": [],
   "source": [
    "import numpy as np"
   ]
  },
  {
   "cell_type": "markdown",
   "metadata": {},
   "source": [
    "This function performs LU decomposition of given matrix A."
   ]
  },
  {
   "cell_type": "code",
   "execution_count": 11,
   "metadata": {
    "collapsed": true
   },
   "outputs": [],
   "source": [
    "def LU(A):\n",
    "    n = A.shape[0]\n",
    "    L = np.zeros((n,n))\n",
    "    U = np.array(A)\n",
    "    for i in range(n-1):\n",
    "        L[i,i] = 1.0\n",
    "        L[i+1:n,i] = U[i+1:n,i]/U[i,i]\n",
    "        for j in range(i+1,n):\n",
    "            U[j,i+1:n] = U[j,i+1:n] - L[j,i] * U[i,i+1:n]\n",
    "        U[i+1:n,i] = 0.0\n",
    "    L[n-1,n-1] = 1.0\n",
    "    return L,U"
   ]
  },
  {
   "cell_type": "markdown",
   "metadata": {},
   "source": [
    "This performs performs solution of\n",
    "$$\n",
    "LUx=b\n",
    "$$\n",
    "in two steps. In first step, solve\n",
    "$$\n",
    "Ly = b\n",
    "$$\n",
    "using\n",
    "$$\n",
    "y_i = \\frac{1}{L_{ii}} \\left[b_i - \\sum_{j=0}^{i-1} L_{ij} y_j\\right], \\qquad i=0,1,\\ldots,n-1\n",
    "$$\n",
    "In second step, solve\n",
    "$$\n",
    "Ux = y\n",
    "$$\n",
    "using\n",
    "$$\n",
    "x_i = \\frac{1}{U_{ii}}\\left[y_i - \\sum_{j=i+1}^{n-1} U_{ij} x_j \\right], \\qquad i=n-1,n-2,\\ldots,0\n",
    "$$"
   ]
  },
  {
   "cell_type": "code",
   "execution_count": 12,
   "metadata": {
    "collapsed": true
   },
   "outputs": [],
   "source": [
    "def LUSolve(L,U,b):\n",
    "    n = L.shape[0]\n",
    "    # solve Ly = b\n",
    "    y = 0*b\n",
    "    for i in range(n):\n",
    "        y[i] = (b[i] - L[i,0:i].dot(y[0:i]))/L[i,i]\n",
    "    # solve Ux = y\n",
    "    x = 0*b\n",
    "    for i in range(n-1,-1,-1):\n",
    "        x[i] = (y[i] - U[i,i+1:n].dot(x[i+1:n]))/U[i,i]\n",
    "    return x"
   ]
  },
  {
   "cell_type": "markdown",
   "metadata": {},
   "source": [
    "Now we test the above function for LU decomposition. We initialize $A$ to a random matrix and compute its LU decomposition."
   ]
  },
  {
   "cell_type": "code",
   "execution_count": 13,
   "metadata": {},
   "outputs": [
    {
     "name": "stdout",
     "output_type": "stream",
     "text": [
      "A = \n",
      "[[ 0.55198372  0.82418968  0.92812346]\n",
      " [ 0.72187729  0.42110018  0.91918334]\n",
      " [ 0.85796063  0.50663298  0.77303437]]\n",
      "L = \n",
      "[[ 1.          0.          0.        ]\n",
      " [ 1.30778728  1.          0.        ]\n",
      " [ 1.55432234  1.1791492   1.        ]]\n",
      "U = \n",
      "[[ 0.55198372  0.82418968  0.92812346]\n",
      " [ 0.         -0.6567646  -0.29460472]\n",
      " [ 0.          0.         -0.32218574]]\n",
      "[[  0.00000000e+00   0.00000000e+00   0.00000000e+00]\n",
      " [  0.00000000e+00   0.00000000e+00   0.00000000e+00]\n",
      " [  0.00000000e+00   1.11022302e-16   1.11022302e-16]]\n"
     ]
    }
   ],
   "source": [
    "n = 3\n",
    "A = np.random.rand(n,n)\n",
    "L,U = LU(A)\n",
    "print \"A = \"; print A\n",
    "print \"L = \"; print L\n",
    "print \"U = \"; print U\n",
    "print A - L.dot(U)"
   ]
  },
  {
   "cell_type": "markdown",
   "metadata": {},
   "source": [
    "Solve the linear system."
   ]
  },
  {
   "cell_type": "code",
   "execution_count": 14,
   "metadata": {},
   "outputs": [
    {
     "name": "stdout",
     "output_type": "stream",
     "text": [
      "[  1.38777878e-16   3.88578059e-16   4.44089210e-16]\n"
     ]
    }
   ],
   "source": [
    "b = np.random.rand(n)\n",
    "x = LUSolve(L,U,b)\n",
    "print A.dot(x) - b"
   ]
  }
 ],
 "metadata": {
  "kernelspec": {
   "display_name": "Python 2",
   "language": "python",
   "name": "python2"
  },
  "language_info": {
   "codemirror_mode": {
    "name": "ipython",
    "version": 2
   },
   "file_extension": ".py",
   "mimetype": "text/x-python",
   "name": "python",
   "nbconvert_exporter": "python",
   "pygments_lexer": "ipython2",
   "version": "2.7.14"
  }
 },
 "nbformat": 4,
 "nbformat_minor": 1
}
