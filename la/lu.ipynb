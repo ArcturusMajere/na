{
 "cells": [
  {
   "cell_type": "markdown",
   "metadata": {},
   "source": [
    "# Gaussian Elimination"
   ]
  },
  {
   "cell_type": "code",
   "execution_count": 1,
   "metadata": {},
   "outputs": [],
   "source": [
    "import numpy as np"
   ]
  },
  {
   "cell_type": "markdown",
   "metadata": {},
   "source": [
    "This function performs LU decomposition of given matrix A."
   ]
  },
  {
   "cell_type": "code",
   "execution_count": 2,
   "metadata": {},
   "outputs": [],
   "source": [
    "def LU(A):\n",
    "    n = A.shape[0]\n",
    "    L = np.zeros((n,n))\n",
    "    U = np.array(A)\n",
    "    for i in range(n-1):\n",
    "        L[i,i] = 1.0\n",
    "        L[i+1:n,i] = U[i+1:n,i]/U[i,i]\n",
    "        for j in range(i+1,n):\n",
    "            U[j,i+1:n] = U[j,i+1:n] - L[j,i] * U[i,i+1:n]\n",
    "        U[i+1:n,i] = 0.0\n",
    "    L[n-1,n-1] = 1.0\n",
    "    return L,U"
   ]
  },
  {
   "cell_type": "markdown",
   "metadata": {},
   "source": [
    "This performs performs solution of\n",
    "$$\n",
    "LUx=b\n",
    "$$\n",
    "in two steps. In first step, solve\n",
    "$$\n",
    "Ly = b\n",
    "$$\n",
    "In second step, solve\n",
    "$$\n",
    "Ux = y\n",
    "$$"
   ]
  },
  {
   "cell_type": "code",
   "execution_count": 3,
   "metadata": {},
   "outputs": [],
   "source": [
    "def LUSolve(L,U,b):\n",
    "    n = L.shape[0]\n",
    "    # solve Ly = b\n",
    "    y = 0*b\n",
    "    for i in range(n):\n",
    "        y[i] = (b[i] - L[i,0:i].dot(y[0:i]))/L[i,i]\n",
    "    # solve Ux = y\n",
    "    x = 0*b\n",
    "    for i in range(n-1,-1,-1):\n",
    "        x[i] = (y[i] - U[i,i+1:n].dot(x[i+1:n]))/U[i,i]\n",
    "    return x"
   ]
  },
  {
   "cell_type": "markdown",
   "metadata": {},
   "source": [
    "Now we test the above function for LU decomposition."
   ]
  },
  {
   "cell_type": "code",
   "execution_count": 4,
   "metadata": {},
   "outputs": [
    {
     "name": "stdout",
     "output_type": "stream",
     "text": [
      "[[ 0.3724645   0.15326785  0.73766056]\n",
      " [ 0.96120642  0.73729898  0.7062711 ]\n",
      " [ 0.45681567  0.845315    0.53508613]]\n",
      "[[ 1.          0.          0.        ]\n",
      " [ 2.58066585  1.          0.        ]\n",
      " [ 1.22646769  1.9233545   1.        ]]\n",
      "[[ 0.3724645   0.15326785  0.73766056]\n",
      " [ 0.          0.34176587 -1.19738432]\n",
      " [ 0.          0.          1.93336381]]\n",
      "[[  0.00000000e+00   0.00000000e+00   0.00000000e+00]\n",
      " [  1.11022302e-16   0.00000000e+00   0.00000000e+00]\n",
      " [  0.00000000e+00   1.11022302e-16   0.00000000e+00]]\n"
     ]
    }
   ],
   "source": [
    "n = 3\n",
    "A = np.random.rand(n,n)\n",
    "L,U = LU(A)\n",
    "print A\n",
    "print L\n",
    "print U\n",
    "print A - L.dot(U)"
   ]
  },
  {
   "cell_type": "markdown",
   "metadata": {},
   "source": [
    "Solve the linear system."
   ]
  },
  {
   "cell_type": "code",
   "execution_count": 5,
   "metadata": {},
   "outputs": [
    {
     "name": "stdout",
     "output_type": "stream",
     "text": [
      "[  0.00000000e+00   1.11022302e-16   1.11022302e-16]\n"
     ]
    }
   ],
   "source": [
    "b = np.random.rand(n)\n",
    "x = LUSolve(L,U,b)\n",
    "print A.dot(x) - b"
   ]
  }
 ],
 "metadata": {
  "kernelspec": {
   "display_name": "Python [default]",
   "language": "python",
   "name": "python2"
  },
  "language_info": {
   "codemirror_mode": {
    "name": "ipython",
    "version": 2
   },
   "file_extension": ".py",
   "mimetype": "text/x-python",
   "name": "python",
   "nbconvert_exporter": "python",
   "pygments_lexer": "ipython2",
   "version": "2.7.14"
  }
 },
 "nbformat": 4,
 "nbformat_minor": 1
}
