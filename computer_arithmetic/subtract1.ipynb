{
 "cells": [
  {
   "cell_type": "markdown",
   "metadata": {},
   "source": [
    "# Error due to subtraction"
   ]
  },
  {
   "cell_type": "markdown",
   "metadata": {},
   "source": [
    "Consider computing\n",
    "$$\n",
    "x=10^{-8}, \\qquad y = 1 - \\cos(x)\n",
    "$$"
   ]
  },
  {
   "cell_type": "code",
   "execution_count": 4,
   "metadata": {},
   "outputs": [],
   "source": [
    "from math import sin,cos"
   ]
  },
  {
   "cell_type": "code",
   "execution_count": 5,
   "metadata": {},
   "outputs": [
    {
     "name": "stdout",
     "output_type": "stream",
     "text": [
      "    0.00000000000000e+00\n"
     ]
    }
   ],
   "source": [
    "x = 1.0e-8\n",
    "y = 1.0 - cos(x)\n",
    "print(\"%24.14e\" % y)"
   ]
  },
  {
   "cell_type": "markdown",
   "metadata": {},
   "source": [
    "Because of roundoff error, the result is zero. But mathematically we have the equivalent expression\n",
    "$$\n",
    "z = 2 \\sin^2(x/2)\n",
    "$$\n",
    "which does not involve subtraction of nearly equal quantities."
   ]
  },
  {
   "cell_type": "code",
   "execution_count": 6,
   "metadata": {},
   "outputs": [
    {
     "name": "stdout",
     "output_type": "stream",
     "text": [
      "    5.00000000000000e-17\n"
     ]
    }
   ],
   "source": [
    "z = 2.0*sin(0.5*x)**2\n",
    "print(\"%24.14e\" % z)"
   ]
  }
 ],
 "metadata": {
  "kernelspec": {
   "display_name": "Python 3",
   "language": "python",
   "name": "python3"
  },
  "language_info": {
   "codemirror_mode": {
    "name": "ipython",
    "version": 3
   },
   "file_extension": ".py",
   "mimetype": "text/x-python",
   "name": "python",
   "nbconvert_exporter": "python",
   "pygments_lexer": "ipython3",
   "version": "3.6.6"
  }
 },
 "nbformat": 4,
 "nbformat_minor": 1
}
