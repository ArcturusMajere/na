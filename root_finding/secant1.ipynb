{
 "cells": [
  {
   "cell_type": "markdown",
   "metadata": {},
   "source": [
    "# Secant method"
   ]
  },
  {
   "cell_type": "code",
   "execution_count": 11,
   "metadata": {},
   "outputs": [
    {
     "data": {
      "image/png": "[encoded data removed]",
      "text/plain": [
       "<matplotlib.figure.Figure at 0x10a9a4ed0>"
      ]
     },
     "metadata": {},
     "output_type": "display_data"
    },
    {
     "name": "stdout",
     "output_type": "stream",
     "text": [
      "0 0.5 0.6 -0.314926338301 -0.21830069988\n",
      "1 0.6 0.825924199258 -0.21830069988 0.0936409433364\n",
      "2 0.825924199258 0.758104606712 0.0936409433364 -0.0144407264092\n",
      "3 0.758104606712 0.767165941381 -0.0144407264092 -0.000743082419677\n",
      "4 0.767165941381 0.767657509019 -0.000743082419677 6.47241130458e-06\n",
      "5 0.767657509019 0.767653264328 6.47241130458e-06 -2.85691170721e-09\n",
      "Number of iterations =  5\n",
      "Final value =  0.767653266201 -1.12132525487e-14\n"
     ]
    }
   ],
   "source": [
    "%matplotlib inline\n",
    "from numpy import exp, arctan, abs, linspace\n",
    "import matplotlib.pyplot as plt\n",
    "\n",
    "f = lambda x: exp(x) - 3.0/2.0 - arctan(x)\n",
    "\n",
    "x = linspace(0.0,1.0,100)\n",
    "plt.plot(x,f(x))\n",
    "plt.grid(True)\n",
    "plt.show()\n",
    "\n",
    "M = 20\n",
    "eps = 1.0e-6\n",
    "x0, x1 = 0.5, 0.6\n",
    "\n",
    "for i in range(M):\n",
    "    f0, f1 = f(x0), f(x1)\n",
    "    print i, x0, x1, f0, f1\n",
    "    x2 = x1 - f1*(x1 - x0)/(f1 - f0)\n",
    "    if abs(x2-x1) < abs(x2)*eps:\n",
    "        break\n",
    "    x0, x1 = x1, x2\n",
    "\n",
    "print \"Number of iterations = \", i+1\n",
    "print \"Final value = \", x2, f(x2)"
   ]
  },
  {
   "cell_type": "code",
   "execution_count": null,
   "metadata": {
    "collapsed": true
   },
   "outputs": [],
   "source": []
  }
 ],
 "metadata": {
  "kernelspec": {
   "display_name": "Python [default]",
   "language": "python",
   "name": "python2"
  },
  "language_info": {
   "codemirror_mode": {
    "name": "ipython",
    "version": 2
   },
   "file_extension": ".py",
   "mimetype": "text/x-python",
   "name": "python",
   "nbconvert_exporter": "python",
   "pygments_lexer": "ipython2",
   "version": "2.7.13"
  }
 },
 "nbformat": 4,
 "nbformat_minor": 2
}
