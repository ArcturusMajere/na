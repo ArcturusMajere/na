{
 "cells": [
  {
   "cell_type": "markdown",
   "metadata": {},
   "source": [
    "# Newton method for complex roots"
   ]
  },
  {
   "cell_type": "markdown",
   "metadata": {},
   "source": [
    "Consider the function\n",
    "$$\n",
    "f(x) = x^5 + 1\n",
    "$$\n",
    "The roots lie on the unit circle in the complex plane."
   ]
  },
  {
   "cell_type": "code",
   "execution_count": 6,
   "metadata": {},
   "outputs": [],
   "source": [
    "from numpy import abs"
   ]
  },
  {
   "cell_type": "markdown",
   "metadata": {},
   "source": [
    "Define the function and its derivative."
   ]
  },
  {
   "cell_type": "code",
   "execution_count": 7,
   "metadata": {},
   "outputs": [],
   "source": [
    "def f(x):\n",
    "    return x**5 + 1.0\n",
    "\n",
    "def df(x):\n",
    "    return 5.0*x**4"
   ]
  },
  {
   "cell_type": "markdown",
   "metadata": {},
   "source": [
    "Now implement Newton method as a function."
   ]
  },
  {
   "cell_type": "code",
   "execution_count": 8,
   "metadata": {},
   "outputs": [],
   "source": [
    "def newton(f,df,x0,M=100,eps=1.0e-15):\n",
    "    x = x0\n",
    "    for i in range(M):\n",
    "        dx = - f(x)/df(x)\n",
    "        x  = x + dx\n",
    "        print(i,x,abs(f(x)))\n",
    "        if abs(dx) < eps * abs(x):\n",
    "            return x"
   ]
  },
  {
   "cell_type": "markdown",
   "metadata": {},
   "source": [
    "We call Newton method with a complex initial guess for the root."
   ]
  },
  {
   "cell_type": "code",
   "execution_count": 9,
   "metadata": {},
   "outputs": [
    {
     "name": "stdout",
     "output_type": "stream",
     "text": [
      "0 (0.85+0.8j) 1.4844926068747277\n",
      "1 (0.7869450486819533+0.6530228729743794j) 0.3587868496977192\n",
      "2 (0.8000098256925355+0.5887168663596131j) 0.04466991909204323\n",
      "3 (0.8091271135998733+0.587660739881959j) 0.0008311338875735857\n",
      "4 (0.8090169566882729+0.5877852118808937j) 2.762870121656608e-07\n",
      "5 (0.8090169943749507+0.5877852522924782j) 3.014107274014632e-14\n",
      "6 (0.8090169943749475+0.5877852522924731j) 2.220446049250313e-16\n",
      "7 (0.8090169943749475+0.5877852522924731j) 2.220446049250313e-16\n",
      "Root =  (0.8090169943749475+0.5877852522924731j)\n"
     ]
    }
   ],
   "source": [
    "x0 = 1.0 + 1.0j\n",
    "x = newton(f,df,x0)\n",
    "print('Root = ',x)"
   ]
  }
 ],
 "metadata": {
  "kernelspec": {
   "display_name": "Python 3",
   "language": "python",
   "name": "python3"
  },
  "language_info": {
   "codemirror_mode": {
    "name": "ipython",
    "version": 3
   },
   "file_extension": ".py",
   "mimetype": "text/x-python",
   "name": "python",
   "nbconvert_exporter": "python",
   "pygments_lexer": "ipython3",
   "version": "3.6.6"
  }
 },
 "nbformat": 4,
 "nbformat_minor": 1
}
