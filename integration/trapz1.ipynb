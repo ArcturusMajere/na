{
 "cells": [
  {
   "cell_type": "markdown",
   "metadata": {},
   "source": [
    "# Trapezoid rule"
   ]
  },
  {
   "cell_type": "code",
   "execution_count": 21,
   "metadata": {
    "collapsed": true
   },
   "outputs": [],
   "source": [
    "import numpy as np\n",
    "\n",
    "def trapz(a,b,n,f):\n",
    "    h = (b-a)/(n-1)\n",
    "    x = np.linspace(a,b,n)\n",
    "    y = f(x)\n",
    "    res = np.sum(y[1:-1]) + 0.5*(y[0] + y[n-1])\n",
    "    return h*res"
   ]
  },
  {
   "cell_type": "markdown",
   "metadata": {},
   "source": [
    "## Example\n",
    "$$\n",
    "f(x) = x, \\qquad x \\in [0,1]\n",
    "$$\n",
    "Exact integral is 0.5"
   ]
  },
  {
   "cell_type": "code",
   "execution_count": 22,
   "metadata": {},
   "outputs": [
    {
     "name": "stdout",
     "output_type": "stream",
     "text": [
      "Integral =  0.5\n"
     ]
    }
   ],
   "source": [
    "f = lambda x: x\n",
    "print \"Integral = \", trapz(0.0,1.0,10,f)"
   ]
  },
  {
   "cell_type": "markdown",
   "metadata": {},
   "source": [
    "## Example\n",
    "$$\n",
    "f(x) = x^2, \\qquad x \\in [0,1]\n",
    "$$\n",
    "Exact integral is $1/3$"
   ]
  },
  {
   "cell_type": "code",
   "execution_count": 23,
   "metadata": {},
   "outputs": [
    {
     "name": "stdout",
     "output_type": "stream",
     "text": [
      "Integral =  0.335390946502\n"
     ]
    }
   ],
   "source": [
    "f = lambda x: x**2\n",
    "print \"Integral = \", trapz(0.0,1.0,10,f)"
   ]
  },
  {
   "cell_type": "markdown",
   "metadata": {},
   "source": [
    "## Example\n",
    "$$\n",
    "f(x) = \\exp(x)\\cos(x), \\qquad x \\in [0,\\pi]\n",
    "$$\n",
    "The exact integral is $-\\frac{1}{2}(1+\\exp(\\pi))$."
   ]
  },
  {
   "cell_type": "code",
   "execution_count": 24,
   "metadata": {},
   "outputs": [
    {
     "name": "stdout",
     "output_type": "stream",
     "text": [
      "     4    -2.28231614191437e+00\n",
      "     8    -4.07896710151283e-01    5.59533e+00\n",
      "    16    -8.83728632382574e-02    4.61563e+00\n",
      "    32    -2.06677602741490e-02    4.27588e+00\n",
      "    64    -5.00291494488536e-03    4.13114e+00\n",
      "   128    -1.23103284940207e-03    4.06400e+00\n",
      "   256    -3.05344472238289e-04    4.03162e+00\n",
      "   512    -7.60373499968381e-05    4.01572e+00\n",
      "  1024    -1.89721738177440e-05    4.00784e+00\n",
      "  2048    -4.73840933068459e-06    4.00391e+00\n"
     ]
    }
   ],
   "source": [
    "f = lambda x: np.exp(x)*np.cos(x)\n",
    "qe = -0.5*(1.0 + np.exp(np.pi)) # Exact integral\n",
    "\n",
    "n,N = 4,10\n",
    "e = np.zeros(N)\n",
    "for i in range(N):\n",
    "    e[i] = trapz(0.0,np.pi,n,f) - qe\n",
    "    if i > 0:\n",
    "        print('%6d %24.14e %14.5e'%(n,e[i],e[i-1]/e[i]))\n",
    "    else:\n",
    "        print('%6d %24.14e'%(n,e[i]))\n",
    "    n = 2*n"
   ]
  },
  {
   "cell_type": "markdown",
   "metadata": {},
   "source": [
    "## Example\n",
    "\n",
    "An example of a periodic function\n",
    "$$\n",
    "f(x) = \\exp(\\sin(x)), \\qquad x \\in [0,2\\pi]\n",
    "$$"
   ]
  },
  {
   "cell_type": "code",
   "execution_count": 25,
   "metadata": {},
   "outputs": [
    {
     "name": "stdout",
     "output_type": "stream",
     "text": [
      "     2    -1.67174121383322e+00\n",
      "     3    -1.67174121383321e+00\n",
      "     4    -2.82600848168890e-04\n",
      "     5     3.43969188092368e-02\n",
      "     6    -3.45941231216784e-09\n",
      "     7    -2.82600848168890e-04\n",
      "     8     3.46389583683049e-14\n",
      "     9     1.25168897735506e-06\n",
      "    10     4.52970994047064e-14\n",
      "    11    -3.45941053581100e-09\n",
      "    12     4.44089209850063e-14\n",
      "    13     6.57429666262033e-12\n",
      "    14     4.35207425653061e-14\n",
      "    15     3.46389583683049e-14\n",
      "    16     4.44089209850063e-14\n"
     ]
    }
   ],
   "source": [
    "f = lambda x: np.exp(np.sin(x))\n",
    "qe = 7.9549265210128 # Exact integral\n",
    "\n",
    "n,N = 2,15\n",
    "e = np.zeros(N)\n",
    "for i in range(N):\n",
    "    e[i] = trapz(0.0,2*np.pi,n,f) - qe\n",
    "    print('%6d %24.14e'%(n,e[i]))\n",
    "    n = n + 1"
   ]
  },
  {
   "cell_type": "markdown",
   "metadata": {},
   "source": [
    "The error converges rapidly to machine zero."
   ]
  }
 ],
 "metadata": {
  "kernelspec": {
   "display_name": "Python [default]",
   "language": "python",
   "name": "python2"
  },
  "language_info": {
   "codemirror_mode": {
    "name": "ipython",
    "version": 2
   },
   "file_extension": ".py",
   "mimetype": "text/x-python",
   "name": "python",
   "nbconvert_exporter": "python",
   "pygments_lexer": "ipython2",
   "version": "2.7.13"
  }
 },
 "nbformat": 4,
 "nbformat_minor": 2
}
