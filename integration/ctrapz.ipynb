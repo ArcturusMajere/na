{
 "cells": [
  {
   "cell_type": "markdown",
   "metadata": {},
   "source": [
    "# Composite corrected Trapezoid rule"
   ]
  },
  {
   "cell_type": "code",
   "execution_count": 5,
   "metadata": {},
   "outputs": [],
   "source": [
    "import numpy as np\n",
    "\n",
    "def trapz(a,b,n,f,df):\n",
    "    h = (b-a)/(n-1)\n",
    "    x = np.linspace(a,b,n)\n",
    "    y = f(x)\n",
    "    res = np.sum(y[1:-1]) + 0.5*(y[0] + y[n-1])\n",
    "    return h*res, h*res - (h**2/12)*(df(b) - df(a))"
   ]
  },
  {
   "cell_type": "markdown",
   "metadata": {},
   "source": [
    "## Example\n",
    "$$\n",
    "f(x) = \\exp(x)\\cos(x), \\qquad x \\in [0,\\pi]\n",
    "$$\n",
    "The exact integral is $-\\frac{1}{2}(1+\\exp(\\pi))$."
   ]
  },
  {
   "cell_type": "code",
   "execution_count": 6,
   "metadata": {},
   "outputs": [
    {
     "name": "stdout",
     "output_type": "stream",
     "text": [
      "     4    -2.28231614191437e+00    0.00000    -7.62134914160022e-02    0.00000\n",
      "     8    -4.07896710151283e-01    5.59533    -2.69418250872455e-03   28.28817\n",
      "    16    -8.83728632382574e-02    4.61563    -1.28757218321951e-04   20.92452\n",
      "    32    -2.06677602741490e-02    4.27588    -7.06947863804430e-06   18.21311\n",
      "    64    -5.00291494488536e-03    4.13114    -4.14603618992260e-07   17.05117\n",
      "   128    -1.23103284940207e-03    4.06400    -2.51084077973474e-08   16.51254\n",
      "   256    -3.05344472238289e-04    4.03162    -1.54483359438018e-09   16.25315\n",
      "   512    -7.60373499968381e-05    4.01572    -9.57953716351767e-11   16.12639\n",
      "  1024    -1.89721738177440e-05    4.00784    -5.96145355302724e-12   16.06913\n",
      "  2048    -4.73840933068459e-06    4.00391    -3.74811293113453e-13   15.90521\n"
     ]
    }
   ],
   "source": [
    "f  = lambda x: np.exp(x)*np.cos(x)\n",
    "df = lambda x: np.exp(x)*(np.cos(x) - np.sin(x))\n",
    "qe = -0.5*(1.0 + np.exp(np.pi)) # Exact integral\n",
    "\n",
    "n,N = 4,10\n",
    "e1,e2 = np.zeros(N),np.zeros(N)\n",
    "for i in range(N):\n",
    "    e1[i],e2[i] = trapz(0.0,np.pi,n,f,df) - qe\n",
    "    if i > 0:\n",
    "        print('%6d %24.14e %10.5f %24.14e %10.5f'%(n,e1[i],e1[i-1]/e1[i],e2[i],e2[i-1]/e2[i]))\n",
    "    else:\n",
    "        print('%6d %24.14e %10.5f %24.14e %10.5f'%(n,e1[i],0,e2[i],0))\n",
    "    n = 2*n"
   ]
  }
 ],
 "metadata": {
  "kernelspec": {
   "display_name": "Python 3",
   "language": "python",
   "name": "python3"
  },
  "language_info": {
   "codemirror_mode": {
    "name": "ipython",
    "version": 3
   },
   "file_extension": ".py",
   "mimetype": "text/x-python",
   "name": "python",
   "nbconvert_exporter": "python",
   "pygments_lexer": "ipython3",
   "version": "3.6.6"
  }
 },
 "nbformat": 4,
 "nbformat_minor": 2
}
